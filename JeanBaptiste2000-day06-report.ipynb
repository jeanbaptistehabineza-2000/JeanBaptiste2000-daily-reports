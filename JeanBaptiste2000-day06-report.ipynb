{
 "cells": [
  {
   "cell_type": "markdown",
   "id": "9bbf3a08",
   "metadata": {},
   "source": [
    "# Jean Baptiste\n",
    "# day_6 report"
   ]
  },
  {
   "cell_type": "code",
   "execution_count": 10,
   "id": "52c4d509",
   "metadata": {},
   "outputs": [
    {
     "name": "stdout",
     "output_type": "stream",
     "text": [
      "27\n"
     ]
    }
   ],
   "source": [
    "# if clause \n",
    "a = 27\n",
    "print(a)"
   ]
  },
  {
   "cell_type": "markdown",
   "id": "edea375c",
   "metadata": {},
   "source": [
    "```python\n",
    "if............;\n",
    "\n",
    "\n",
    "     instruction 1 .....\n",
    "    \n",
    "    \n",
    "    ```"
   ]
  },
  {
   "cell_type": "markdown",
   "id": "70f3e68c",
   "metadata": {},
   "source": [
    "# if.... else"
   ]
  },
  {
   "cell_type": "code",
   "execution_count": 7,
   "id": "4c4c4bd4",
   "metadata": {},
   "outputs": [
    {
     "name": "stdout",
     "output_type": "stream",
     "text": [
      "27\n",
      "we do not have it\n"
     ]
    }
   ],
   "source": [
    "a = 27\n",
    "print(a)\n",
    "\n",
    "if(a > 29):\n",
    "    print(\"we have it\")\n",
    "else:\n",
    "    print(\"we do not have it\")"
   ]
  },
  {
   "cell_type": "markdown",
   "id": "02392cf4",
   "metadata": {},
   "source": [
    "# if ....elif .... else"
   ]
  },
  {
   "cell_type": "code",
   "execution_count": null,
   "id": "6d91dc7a",
   "metadata": {},
   "outputs": [],
   "source": [
    "x = 0\n",
    "if x > 0:\n",
    "      print(\"x is positive\")\n",
    "elif x < 0 :\n",
    "    print(\"x is negative\")\n",
    "\n",
    "    else"
   ]
  },
  {
   "cell_type": "code",
   "execution_count": null,
   "id": "7027dc0f",
   "metadata": {},
   "outputs": [],
   "source": []
  },
  {
   "cell_type": "code",
   "execution_count": 9,
   "id": "9c43aafe",
   "metadata": {},
   "outputs": [
    {
     "name": "stdout",
     "output_type": "stream",
     "text": [
      "a is greater than b\n",
      "the diff is ....\n"
     ]
    }
   ],
   "source": [
    "a = 15\n",
    "b = 10 \n",
    "\n",
    "if a > b:\n",
    "    print(\"a is greater than b\")\n",
    "    if (a-b >5):\n",
    "        print(\"The dif is ......\")\n",
    "    else:\n",
    "         print(\"the diff is ....\")\n",
    "else:           \n",
    "    print(\"b is greater than a\")\n",
    " "
   ]
  },
  {
   "cell_type": "code",
   "execution_count": 1,
   "id": "54df1c99",
   "metadata": {},
   "outputs": [
    {
     "data": {
      "text/plain": [
       "<bound method Kernel.raw_input of <ipykernel.ipkernel.IPythonKernel object at 0x000001F6F787AB50>>"
      ]
     },
     "execution_count": 1,
     "metadata": {},
     "output_type": "execute_result"
    }
   ],
   "source": [
    "input"
   ]
  },
  {
   "cell_type": "code",
   "execution_count": 2,
   "id": "ecc46307",
   "metadata": {},
   "outputs": [
    {
     "name": "stdout",
     "output_type": "stream",
     "text": [
      "enter the a, 1\n",
      "enter the b, 2\n",
      "enter the c, 3\n"
     ]
    }
   ],
   "source": [
    "a = eval(input(\"enter the a, \"))\n",
    "b = eval(input(\"enter the b, \"))\n",
    "c = eval(input(\"enter the c, \"))\n",
    "\n",
    "#a * x**2 + b * x + c\n",
    "delta = b**2 - 4*a*c\n",
    "if a != 0:\n",
    "    pass\n",
    "if delta >=0:\n",
    "    root_1 = [-b + sqrt(delta)] / 2 * a\n",
    "    root_2 = [-b - sqrt(delta)] / 2 * a\n",
    "    print(\"we have two distinct root\")\n",
    "    \n",
    "else:\n",
    "    \n",
    "    \n",
    "\n",
    "    "
   ]
  },
  {
   "cell_type": "markdown",
   "id": "9149e6f2",
   "metadata": {},
   "source": [
    "# Solve the quadratic equation a*x^2 + b*x + c"
   ]
  },
  {
   "cell_type": "code",
   "execution_count": 3,
   "id": "b9b0ce86",
   "metadata": {},
   "outputs": [
    {
     "name": "stdout",
     "output_type": "stream",
     "text": [
      "Enter the value of a2\n",
      "Enter the value of b4\n",
      "Enter the value of c3\n",
      "No solution\n"
     ]
    }
   ],
   "source": [
    "import math\n",
    "a = float(input(\"Enter the value of a\"))\n",
    "b = float(input (\"Enter the value of b\"))\n",
    "c = float(input(\"Enter the value of c\"))\n",
    "\n",
    "discriminant = b**2 - 4*a*c\n",
    "if discriminant < 0:\n",
    "    print(\"No solution\")\n",
    "elif discriminant == 0:\n",
    "    x = -b / (2*a)\n",
    "    print(\"One solution\", x)\n",
    "else:\n",
    "\n",
    "    x1 = (-b + math.sqrt(discriminant)) / (2*a)\n",
    "    x2 = (-b - math.sqrt(discriminant)) / (2*a)\n",
    "    print(\"Two solutions:\", x1, \"and\", x2)"
   ]
  },
  {
   "cell_type": "markdown",
   "id": "3e44c8f3",
   "metadata": {},
   "source": [
    "# loops"
   ]
  },
  {
   "cell_type": "markdown",
   "id": "3031b0e7",
   "metadata": {},
   "source": [
    "# While loop"
   ]
  },
  {
   "cell_type": "code",
   "execution_count": 4,
   "id": "95e399b6",
   "metadata": {},
   "outputs": [
    {
     "name": "stdout",
     "output_type": "stream",
     "text": [
      "the value of i is  1\n",
      "the value of i is  2\n",
      "the value of i is  3\n",
      "the value of i is  4\n",
      "the value of i is  5\n",
      "the value of i is  6\n",
      "the value of i is  7\n",
      "the value of i is  8\n",
      "the value of i is  9\n"
     ]
    }
   ],
   "source": [
    "i = 1\n",
    "while (i < 10):\n",
    "    print(\"the value of i is \", i)\n",
    "    i = i + 1"
   ]
  },
  {
   "cell_type": "code",
   "execution_count": 5,
   "id": "835075f4",
   "metadata": {},
   "outputs": [
    {
     "name": "stdout",
     "output_type": "stream",
     "text": [
      "0\n",
      "1\n",
      "2\n",
      "3\n",
      "4\n",
      "5\n",
      "6\n",
      "7\n",
      "8\n",
      "9\n"
     ]
    }
   ],
   "source": [
    "n = 10\n",
    "for i in range(n):\n",
    "    print(i)\n",
    "    "
   ]
  },
  {
   "cell_type": "code",
   "execution_count": 7,
   "id": "6e065d2f",
   "metadata": {},
   "outputs": [
    {
     "name": "stdout",
     "output_type": "stream",
     "text": [
      "try again\n",
      "we found it\n",
      "try again\n",
      "try again\n"
     ]
    }
   ],
   "source": [
    "list_fr = [3, 5, 'hello', 98]\n",
    "for i in list_fr:\n",
    "    if i == 5:\n",
    "        print(\"we found it\")\n",
    "    else:\n",
    "        print(\"try again\")"
   ]
  },
  {
   "cell_type": "code",
   "execution_count": 9,
   "id": "34e9f6df",
   "metadata": {},
   "outputs": [
    {
     "name": "stdout",
     "output_type": "stream",
     "text": [
      "The letter T is a consonant\n",
      "The letter h is a consonant\n",
      "The letter i is a vowel\n",
      "The letter s is a consonant\n",
      "The letter   is a consonant\n",
      "The letter i is a vowel\n",
      "The letter s is a consonant\n",
      "The letter   is a consonant\n",
      "The letter t is a consonant\n",
      "The letter h is a consonant\n",
      "The letter e is a vowel\n",
      "The letter   is a consonant\n",
      "The letter s is a consonant\n",
      "The letter e is a vowel\n",
      "The letter c is a consonant\n",
      "The letter o is a vowel\n",
      "The letter n is a consonant\n",
      "The letter d is a consonant\n",
      "The letter   is a consonant\n",
      "The letter c is a consonant\n",
      "The letter l is a consonant\n",
      "The letter a is a vowel\n",
      "The letter s is a consonant\n",
      "The letter s is a consonant\n",
      "The letter   is a consonant\n",
      "The letter i is a vowel\n",
      "The letter n is a consonant\n",
      "The letter   is a consonant\n",
      "The letter t is a consonant\n",
      "The letter h is a consonant\n",
      "The letter e is a vowel\n",
      "The letter   is a consonant\n",
      "The letter n is a consonant\n",
      "The letter e is a vowel\n",
      "The letter w is a consonant\n",
      "The letter   is a consonant\n",
      "The letter A is a vowel\n",
      "The letter I is a vowel\n",
      "The letter M is a consonant\n",
      "The letter S is a consonant\n",
      "The letter   is a consonant\n",
      "The letter b is a consonant\n",
      "The letter u is a vowel\n",
      "The letter i is a vowel\n",
      "The letter l is a consonant\n",
      "The letter d is a consonant\n",
      "The letter i is a vowel\n",
      "The letter n is a consonant\n",
      "The letter g is a consonant\n",
      "The letter . is a consonant\n"
     ]
    }
   ],
   "source": [
    "sentence = \"This is the second class in the new AIMS building.\"\n",
    "#sentence = \"Hello, world.\"\n",
    "for letter in sentence:\n",
    "    if letter in \"AEIOUaeiou\":\n",
    "        print(\"The letter\", letter, \"is a vowel\")\n",
    "    elif letter == \"\":\n",
    "        print(\"This is likely a space\")\n",
    "    else:\n",
    "        print(\"The letter\", letter, \"is a consonant\")"
   ]
  },
  {
   "cell_type": "code",
   "execution_count": null,
   "id": "5b1e905b",
   "metadata": {},
   "outputs": [],
   "source": []
  }
 ],
 "metadata": {
  "kernelspec": {
   "display_name": "Python 3 (ipykernel)",
   "language": "python",
   "name": "python3"
  },
  "language_info": {
   "codemirror_mode": {
    "name": "ipython",
    "version": 3
   },
   "file_extension": ".py",
   "mimetype": "text/x-python",
   "name": "python",
   "nbconvert_exporter": "python",
   "pygments_lexer": "ipython3",
   "version": "3.11.5"
  }
 },
 "nbformat": 4,
 "nbformat_minor": 5
}
