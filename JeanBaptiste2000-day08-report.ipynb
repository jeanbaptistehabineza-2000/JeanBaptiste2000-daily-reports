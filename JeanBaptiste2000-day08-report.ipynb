{
 "cells": [
  {
   "cell_type": "markdown",
   "id": "1f7c474e",
   "metadata": {},
   "source": [
    "# Jean Baptiste\n",
    "# day_08"
   ]
  },
  {
   "cell_type": "code",
   "execution_count": null,
   "id": "5c512d10",
   "metadata": {},
   "outputs": [],
   "source": []
  },
  {
   "cell_type": "code",
   "execution_count": 1,
   "id": "98eaf03c",
   "metadata": {},
   "outputs": [],
   "source": [
    "def fact(n):\n",
    "    if n <= 0:\n",
    "        return 1\n",
    "    return n * fact(n - 1)"
   ]
  },
  {
   "cell_type": "code",
   "execution_count": 2,
   "id": "57617821",
   "metadata": {},
   "outputs": [
    {
     "data": {
      "text/plain": [
       "1"
      ]
     },
     "execution_count": 2,
     "metadata": {},
     "output_type": "execute_result"
    }
   ],
   "source": [
    "fact(-4)"
   ]
  },
  {
   "cell_type": "code",
   "execution_count": 3,
   "id": "7da55d59",
   "metadata": {},
   "outputs": [
    {
     "data": {
      "text/plain": [
       "1"
      ]
     },
     "execution_count": 3,
     "metadata": {},
     "output_type": "execute_result"
    }
   ],
   "source": [
    "fact(-47)"
   ]
  },
  {
   "cell_type": "code",
   "execution_count": null,
   "id": "6476846b",
   "metadata": {},
   "outputs": [],
   "source": []
  },
  {
   "cell_type": "markdown",
   "id": "0a83d4fc",
   "metadata": {},
   "source": [
    "# Fibonaci sequence"
   ]
  },
  {
   "cell_type": "code",
   "execution_count": 8,
   "id": "52ffa335",
   "metadata": {},
   "outputs": [
    {
     "data": {
      "text/plain": [
       "55"
      ]
     },
     "execution_count": 8,
     "metadata": {},
     "output_type": "execute_result"
    }
   ],
   "source": [
    "#F(0) = 0, F(1) = 1, F(n) = F(n - 1) + F(n - 2)\n",
    "def fibo(n):\n",
    "    if n <= 1:\n",
    "        return n\n",
    "    return fibo(n - 1) + fibo(n - 2)\n",
    "fibo(10)\n"
   ]
  },
  {
   "cell_type": "code",
   "execution_count": 6,
   "id": "ef556e12",
   "metadata": {},
   "outputs": [
    {
     "data": {
      "text/plain": [
       "55"
      ]
     },
     "execution_count": 6,
     "metadata": {},
     "output_type": "execute_result"
    }
   ],
   "source": [
    "def fibo(n):\n",
    "    if n <= 1:\n",
    "        return n\n",
    "    return fibo(n - 1) + fibo(n - 2)\n",
    "fibo(10)"
   ]
  },
  {
   "cell_type": "code",
   "execution_count": 7,
   "id": "ed590494",
   "metadata": {},
   "outputs": [
    {
     "data": {
      "text/plain": [
       "8"
      ]
     },
     "execution_count": 7,
     "metadata": {},
     "output_type": "execute_result"
    }
   ],
   "source": [
    "fibo(6)"
   ]
  },
  {
   "cell_type": "markdown",
   "id": "c54b582b",
   "metadata": {},
   "source": [
    "# Lamda function "
   ]
  },
  {
   "cell_type": "code",
   "execution_count": 9,
   "id": "9655c4e4",
   "metadata": {},
   "outputs": [
    {
     "name": "stdout",
     "output_type": "stream",
     "text": [
      "8\n"
     ]
    }
   ],
   "source": [
    "double = lambda x: x * 2\n",
    "print(double(4))"
   ]
  },
  {
   "cell_type": "code",
   "execution_count": 10,
   "id": "9e8dca82",
   "metadata": {},
   "outputs": [
    {
     "name": "stdout",
     "output_type": "stream",
     "text": [
      "16\n",
      "27\n"
     ]
    }
   ],
   "source": [
    "def power(n):\n",
    "    return lambda x: x ** n \n",
    "square = power(2)\n",
    "cube = power(3)\n",
    "\n",
    "print(square(4))\n",
    "print(cube(3 ))\n"
   ]
  },
  {
   "cell_type": "code",
   "execution_count": null,
   "id": "dfdf0a6e",
   "metadata": {},
   "outputs": [],
   "source": []
  }
 ],
 "metadata": {
  "kernelspec": {
   "display_name": "Python 3 (ipykernel)",
   "language": "python",
   "name": "python3"
  },
  "language_info": {
   "codemirror_mode": {
    "name": "ipython",
    "version": 3
   },
   "file_extension": ".py",
   "mimetype": "text/x-python",
   "name": "python",
   "nbconvert_exporter": "python",
   "pygments_lexer": "ipython3",
   "version": "3.11.5"
  }
 },
 "nbformat": 4,
 "nbformat_minor": 5
}
