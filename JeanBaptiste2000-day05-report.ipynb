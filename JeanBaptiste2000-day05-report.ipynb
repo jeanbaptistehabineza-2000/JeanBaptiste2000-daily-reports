{
 "cells": [
  {
   "cell_type": "markdown",
   "id": "1c1199be",
   "metadata": {},
   "source": [
    "# Jean Baptiste\n",
    "# day_05\n"
   ]
  },
  {
   "cell_type": "code",
   "execution_count": null,
   "id": "dc61df0d",
   "metadata": {},
   "outputs": [],
   "source": [
    "x = [1, 5, 8, 10, 4, 50, 8]\n",
    "y = [\"Olivier\", \"ENGEL\", \"Strasbourg\"]\n",
    "z = [1, \"Olivier\", 5, 8, \"ENGEL\", 10, 4, 50, \"Strasbourg\"]"
   ]
  },
  {
   "cell_type": "code",
   "execution_count": 2,
   "id": "ebe715c1",
   "metadata": {},
   "outputs": [
    {
     "name": "stdout",
     "output_type": "stream",
     "text": [
      "[1, 2, 3, 4, 5, 6, 7, 8, 9]\n"
     ]
    }
   ],
   "source": [
    "x = list(range(1, 10))\n",
    "print(x)"
   ]
  },
  {
   "cell_type": "code",
   "execution_count": 3,
   "id": "f5a03f7f",
   "metadata": {},
   "outputs": [],
   "source": [
    "x = [1, 5, 8, 10, 4, 50, 8]\n",
    "y = [\"Olivier\", \"ENGEL\", \"Strasbourg\"]\n",
    "z = [1, \"Olivier\", 5, 8, \"ENGEL\", 10, 4, 50, \"Strasbourg\"]"
   ]
  },
  {
   "cell_type": "code",
   "execution_count": 4,
   "id": "065e6866",
   "metadata": {},
   "outputs": [
    {
     "name": "stdout",
     "output_type": "stream",
     "text": [
      "(1, 2, 3, 4, 5, 6, 7, 8, 9)\n"
     ]
    }
   ],
   "source": [
    "x = tuple(range(1, 10))\n",
    "print(x)"
   ]
  },
  {
   "cell_type": "code",
   "execution_count": null,
   "id": "097878b0",
   "metadata": {},
   "outputs": [],
   "source": [
    "x = [1, 5, 8, 10, 4, 50, 8]\n",
    "y = [\"Olivier\", \"ENGEL\", \"Strasbourg\"]\n",
    "z = [1, \"Olivier\", 5, 8, \"ENGEL\", 10, 4, 50, \"Strasbourg\"]"
   ]
  },
  {
   "cell_type": "code",
   "execution_count": 5,
   "id": "cce748b1",
   "metadata": {},
   "outputs": [
    {
     "name": "stdout",
     "output_type": "stream",
     "text": [
      "{'meat', 2, 4, 'orange'}\n"
     ]
    }
   ],
   "source": [
    "v = [2, 4, \"orange\", \"meat\", 4, \"orange\"]\n",
    "V = set(v)\n",
    "print(V)"
   ]
  },
  {
   "cell_type": "code",
   "execution_count": 28,
   "id": "b90643b1",
   "metadata": {},
   "outputs": [],
   "source": [
    "x = {'name': 'Jean', 'weight': 70, 'height': 1.75}\n",
    "y = {'Jean': [25, 70, 1.75], 'Paul': [30, 65, 1.80], 'Pierre': [35, 75, 1.65]}   "
   ]
  },
  {
   "cell_type": "code",
   "execution_count": 40,
   "id": "45088c27",
   "metadata": {},
   "outputs": [
    {
     "data": {
      "text/plain": [
       "([[1, 2, 3], [2, 3, 4], [3, 4, 5]], [[[1, 2], [2, 3]], [[4, 5], [5, 6]]])"
      ]
     },
     "execution_count": 40,
     "metadata": {},
     "output_type": "execute_result"
    }
   ],
   "source": [
    "x = [[1,2,3],[2,3,4],[3,4,5]]\n",
    "y = [[[1,2],[2,3]],[[4,5],[5,6]]]\n",
    "x,y"
   ]
  },
  {
   "cell_type": "code",
   "execution_count": 7,
   "id": "6ce27a46",
   "metadata": {},
   "outputs": [],
   "source": [
    "y = [[[1,2],[2,3]],[[4,5],[5,6]]] "
   ]
  },
  {
   "cell_type": "code",
   "execution_count": 27,
   "id": "6232d2da",
   "metadata": {},
   "outputs": [
    {
     "data": {
      "text/plain": [
       "2"
      ]
     },
     "execution_count": 27,
     "metadata": {},
     "output_type": "execute_result"
    }
   ],
   "source": [
    "y[0][0][1]"
   ]
  },
  {
   "cell_type": "code",
   "execution_count": 32,
   "id": "3950e853",
   "metadata": {},
   "outputs": [],
   "source": [
    "y = [[[1,2],[2,3]],[[4,5],[5,6]]] "
   ]
  },
  {
   "cell_type": "code",
   "execution_count": 33,
   "id": "93f629a3",
   "metadata": {},
   "outputs": [
    {
     "data": {
      "text/plain": [
       "[[4, 5], [5, 6]]"
      ]
     },
     "execution_count": 33,
     "metadata": {},
     "output_type": "execute_result"
    }
   ],
   "source": [
    "y[1]"
   ]
  },
  {
   "cell_type": "code",
   "execution_count": 34,
   "id": "469b3e39",
   "metadata": {},
   "outputs": [
    {
     "data": {
      "text/plain": [
       "[[1, 2], [2, 3]]"
      ]
     },
     "execution_count": 34,
     "metadata": {},
     "output_type": "execute_result"
    }
   ],
   "source": [
    "y[0]"
   ]
  },
  {
   "cell_type": "code",
   "execution_count": 35,
   "id": "7ab827ac",
   "metadata": {},
   "outputs": [
    {
     "data": {
      "text/plain": [
       "[1, 2]"
      ]
     },
     "execution_count": 35,
     "metadata": {},
     "output_type": "execute_result"
    }
   ],
   "source": [
    "y[0][0]"
   ]
  },
  {
   "cell_type": "code",
   "execution_count": 36,
   "id": "20a01e73",
   "metadata": {},
   "outputs": [
    {
     "data": {
      "text/plain": [
       "6"
      ]
     },
     "execution_count": 36,
     "metadata": {},
     "output_type": "execute_result"
    }
   ],
   "source": [
    "y[1][1][1]"
   ]
  },
  {
   "cell_type": "code",
   "execution_count": 37,
   "id": "478b3de0",
   "metadata": {},
   "outputs": [
    {
     "data": {
      "text/plain": [
       "1"
      ]
     },
     "execution_count": 37,
     "metadata": {},
     "output_type": "execute_result"
    }
   ],
   "source": [
    "y[0][0][0]"
   ]
  },
  {
   "cell_type": "code",
   "execution_count": 38,
   "id": "3084a505",
   "metadata": {},
   "outputs": [
    {
     "name": "stdout",
     "output_type": "stream",
     "text": [
      "[-2.0, -1.0, 0.0, 1.0, 2.0]\n",
      "============================= \n",
      "\n",
      "[-1.0, -0.5, 0.0, 0.5, 1.0]\n"
     ]
    }
   ],
   "source": [
    "voltage = [-2.0, -1.0, 0.0, 1.0, 2.0]\n",
    "\n",
    "courant = [-1.0, -0.5, 0.0, 0.5, 1.0]\n",
    "\n",
    "print(voltage)\n",
    "print(\"============================= \\n\")\n",
    "print(courant)"
   ]
  },
  {
   "cell_type": "code",
   "execution_count": 39,
   "id": "d4bea420",
   "metadata": {},
   "outputs": [
    {
     "name": "stdout",
     "output_type": "stream",
     "text": [
      "['elie', 'benie', 2, 4, 'tai', -2.0, 2.0]\n",
      "=================================\n",
      "\n",
      "[-1.0, -0.5, 0.0, 0.5, 1.0, 2.0, 4.0, 3.0]\n"
     ]
    }
   ],
   "source": [
    "is_voltage = [\"elie\", \"benie\", 2, 4, \"tai\", -2.0, 2.0]\n",
    "is_courant = [-1.0, -0.5, 0.0, 0.5, 1.0, 2.0, 4.0, 3.0]\n",
    "print(is_voltage)\n",
    "print(\"=================================\\n\")\n",
    "print(is_courant)"
   ]
  },
  {
   "cell_type": "code",
   "execution_count": 42,
   "id": "ba82494e",
   "metadata": {},
   "outputs": [
    {
     "name": "stdout",
     "output_type": "stream",
     "text": [
      "['Monday', 'Tuesday', 'Wednesday', 1800, 20.357, 'Thursday', 'Friday']\n"
     ]
    }
   ],
   "source": [
    "x = list(['Monday', 'Tuesday', 'Wednesday', 1800, 20.357, 'Thursday', 'Friday']) # Definition of a list\n",
    "print(x) # Displays all the elements of the list x"
   ]
  },
  {
   "cell_type": "code",
   "execution_count": 43,
   "id": "e19bfead",
   "metadata": {},
   "outputs": [
    {
     "name": "stdout",
     "output_type": "stream",
     "text": [
      "Monday\n",
      "================================================\n",
      "\t\n",
      "1800\n",
      "================================================\n",
      "\t\n",
      "['Tuesday', 'Wednesday']\n",
      "================================================\n",
      "\t\n",
      "['Tuesday', 1800, 'Thursday']\n",
      "================================================\n",
      "\t\n",
      "['Wednesday', 1800, 20.357, 'Thursday', 'Friday']\n",
      "================================================\n",
      "\t\n",
      "['Monday', 'Tuesday', 'Wednesday']\n",
      "================================================\n",
      "\t\n",
      "Friday\n",
      "================================================\n",
      "\t\n",
      "Thursday\n",
      "================================================\n",
      "\t\n",
      "['Monday', 'Wednesday', 20.357, 'Friday']\n",
      "================================================\n",
      "\t\n",
      "['Friday', 'Thursday', 20.357, 1800, 'Wednesday', 'Tuesday', 'Monday']\n"
     ]
    }
   ],
   "source": [
    "print(x[0]) # Returns the first element of x: 'Monday' (Note: indexing starts at 0)\n",
    "print(\"================================================\")\n",
    "print('\\t')\n",
    "\n",
    "print(x[3]) # Returns the element at index 3 (fourth element of x): 1800\n",
    "print(\"================================================\")\n",
    "print('\\t')\n",
    "\n",
    "print(x[1:3]) # Returns all elements between index 1 and index 3 (Note: element at index 3 is excluded)\n",
    "print(\"================================================\")\n",
    "print('\\t')\n",
    "\n",
    "print(x[1:6:2]) # Returns all elements between index 1 and index 6 with a step of 2 elements each time ['Tuesday', 1800, 'Thursday'] (element at index 6 is excluded).\n",
    "print(\"================================================\")\n",
    "print('\\t')\n",
    "\n",
    "print(x[2:]) # Returns all elements starting from index 2 (inclusive).\n",
    "print(\"================================================\")\n",
    "print('\\t')\n",
    "\n",
    "print(x[:3]) # Returns all elements up to but not including index 3\n",
    "print(\"================================================\")\n",
    "print('\\t')\n",
    "\n",
    "print(x[-1]) # Negative indexing, returns the last element of the list (equivalent to x[6])\n",
    "print(\"================================================\")\n",
    "print('\\t')\n",
    "\n",
    "print(x[-2]) # Negative indexing, returns the second to last element of the list (equivalent to x[5])\n",
    "print(\"================================================\")\n",
    "print('\\t')\n",
    "\n",
    "print(x[::2]) # Iterates through all elements between index 0 and the last index, returning every second element ['Monday', 'Wednesday', 20.357, 'Friday'].\n",
    "print(\"================================================\")\n",
    "print('\\t')\n",
    "\n",
    "print(x[::-1]) # Returns a list containing all elements of x, rearranged from the last element to the first. This is a reverse of x. Returns ['Friday', 'Thursday', 20.357, 1800, 'Wednesday', 'Tuesday', 'Monday'].\n",
    "# The same result can be obtained by using x.reverse()\n",
    "x_rev = x.reverse()\n",
    "x_rev\n"
   ]
  },
  {
   "cell_type": "code",
   "execution_count": 44,
   "id": "d28949e8",
   "metadata": {},
   "outputs": [
    {
     "name": "stdout",
     "output_type": "stream",
     "text": [
      "[[1, 2, 3], [2, 3, 4], [3, 4, 5]]\n",
      "================================================\n",
      "\t\n",
      "[1, 2, 3]\n",
      "================================================\n",
      "\t\n",
      "1\n",
      "================================================\n",
      "\t\n",
      "[3, 4, 5]\n",
      "================================================\n",
      "\t\n",
      "4\n",
      "================================================\n",
      "\t\n",
      "[[2, 3, 4], [3, 4, 5]]\n",
      "================================================\n",
      "\t\n",
      "[2, 3, 4]\n",
      "================================================\n",
      "\t\n",
      "[3, 4, 5]\n",
      "================================================\n",
      "\t\n",
      "[2, 3]\n",
      "================================================\n",
      "\t\n",
      "[3, 4]\n"
     ]
    }
   ],
   "source": [
    "x = [[1, 2, 3], [2, 3, 4], [3, 4, 5]]\n",
    "print(x)\n",
    "print(\"================================================\")\n",
    "print('\\t')\n",
    "\n",
    "print(x[0]) # Returns the first sublist [1, 2, 3]\n",
    "print(\"================================================\")\n",
    "print('\\t')\n",
    "\n",
    "print(x[0][0]) # Returns the first element of the first sublist, which is 1\n",
    "print(\"================================================\")\n",
    "print('\\t')\n",
    "\n",
    "print(x[2]) # Returns the third sublist [3, 4, 5]\n",
    "print(\"================================================\")\n",
    "print('\\t')\n",
    "\n",
    "print(x[2][1]) # Returns the element at index 1 of the third sublist, which is 4\n",
    "print(\"================================================\")\n",
    "print('\\t')\n",
    "\n",
    "print(x[1:]) # Returns all sublists starting from index 1: [[2, 3, 4], [3, 4, 5]]\n",
    "print(\"================================================\")\n",
    "print('\\t')\n",
    "\n",
    "print(x[1:][0]) # Returns the first sublist from the sliced list: [2, 3, 4]\n",
    "print(\"================================================\")\n",
    "print('\\t')\n",
    "\n",
    "print(x[-1]) # Returns the last sublist [3, 4, 5]\n",
    "print(\"================================================\")\n",
    "print('\\t')\n",
    "\n",
    "print(x[1][:2]) # Returns the first two elements of the second sublist: [2, 3]\n",
    "print(\"================================================\")\n",
    "print('\\t')\n",
    "\n",
    "print(x[1][1:]) # Returns elements from index 1 to the end of the second sublist: [3, 4]\n"
   ]
  },
  {
   "cell_type": "code",
   "execution_count": 45,
   "id": "d5ff4cdb",
   "metadata": {},
   "outputs": [
    {
     "name": "stdout",
     "output_type": "stream",
     "text": [
      "range(0, 10)\n",
      "================================================\n",
      "\t\n",
      "range(2, 10)\n",
      "================================================\n",
      "\t\n",
      "range(1, 10, 2)\n"
     ]
    }
   ],
   "source": [
    "x = range(10) # Creates a sequence of integer values from 0 to 9\n",
    "print(x)\n",
    "print(\"================================================\")\n",
    "print('\\t')\n",
    "\n",
    "x = range(2, 10) # Creates a sequence of integer values from 2 to 9\n",
    "print(x)\n",
    "print(\"================================================\")\n",
    "print('\\t')\n",
    "\n",
    "x = range(1, 10, 2) # Creates a sequence of integer values from 1 to 9 with a step of 2. It returns 1, 3, 5, 7, and 9\n",
    "print(x)\n"
   ]
  },
  {
   "cell_type": "code",
   "execution_count": 46,
   "id": "9f302b06",
   "metadata": {},
   "outputs": [
    {
     "name": "stdout",
     "output_type": "stream",
     "text": [
      "[0, 1, 2, 3, 4, 5, 6, 7, 8, 9]\n"
     ]
    }
   ],
   "source": [
    "x = range(10)\n",
    "\n",
    "print(list(x)) # Returns a list: values in square brackets [0, 1, 2, 3, 4, 5, 6, 7, 8, 9]\n"
   ]
  }
 ],
 "metadata": {
  "kernelspec": {
   "display_name": "Python 3 (ipykernel)",
   "language": "python",
   "name": "python3"
  },
  "language_info": {
   "codemirror_mode": {
    "name": "ipython",
    "version": 3
   },
   "file_extension": ".py",
   "mimetype": "text/x-python",
   "name": "python",
   "nbconvert_exporter": "python",
   "pygments_lexer": "ipython3",
   "version": "3.11.5"
  }
 },
 "nbformat": 4,
 "nbformat_minor": 5
}
